{
  "nbformat": 4,
  "nbformat_minor": 0,
  "metadata": {
    "colab": {
      "provenance": [],
      "authorship_tag": "ABX9TyN82uuBYIg3ko/C+pDg/OUU",
      "include_colab_link": true
    },
    "kernelspec": {
      "name": "python3",
      "display_name": "Python 3"
    },
    "language_info": {
      "name": "python"
    }
  },
  "cells": [
    {
      "cell_type": "markdown",
      "metadata": {
        "id": "view-in-github",
        "colab_type": "text"
      },
      "source": [
        "<a href=\"https://colab.research.google.com/github/chetansy08/1BM22AI401-OOP/blob/main/program_2.ipynb\" target=\"_parent\"><img src=\"https://colab.research.google.com/assets/colab-badge.svg\" alt=\"Open In Colab\"/></a>"
      ]
    },
    {
      "cell_type": "markdown",
      "source": [
        "a) Define a class called Songs, it will show the lyrics of a song.\n",
        "Its __init__() method should have two arguments:self and lyrics.lyricsis a list.\n",
        "Inside your class create a method called sing_me_a_song that prints each\n",
        "element of lyrics on his own line. Define a varible:"
      ],
      "metadata": {
        "id": "5A80c_pHRQ4o"
      }
    },
    {
      "cell_type": "code",
      "execution_count": 5,
      "metadata": {
        "colab": {
          "base_uri": "https://localhost:8080/"
        },
        "id": "MKjB8-DSRIOD",
        "outputId": "4552be4c-e536-41e4-d9d4-6872494b1782"
      },
      "outputs": [
        {
          "output_type": "stream",
          "name": "stdout",
          "text": [
            "May god bless you, \n",
            "Have a sunshine on you,\n",
            "Happy Birthday to you !\n"
          ]
        }
      ],
      "source": [
        "class Song:\n",
        "  def __init__(self,lyrics):\n",
        "    self.lyrics=lyrics\n",
        "\n",
        "  def sing_me_a_song(self):\n",
        "    for i in range(len(lyrics)):\n",
        "      print(lyrics[i])\n",
        "    #print(f\"BIRTHDAY SONG--{self.lyrics}\")\n",
        "\n",
        "\n",
        "lyrics=([\"May god bless you, \",\n",
        "\"Have a sunshine on you,\",\n",
        "\"Happy Birthday to you !\"])\n",
        "\n",
        "s1=Song(lyrics)\n",
        "\n",
        "s1.sing_me_a_song()"
      ]
    },
    {
      "cell_type": "markdown",
      "source": [
        "b) Create a class called dog having following features:"
      ],
      "metadata": {
        "id": "tBrgiYe1UM7g"
      }
    },
    {
      "cell_type": "code",
      "source": [
        "class Dog:\n",
        "    def __init__(self, name, size, breed='Unknown', dob='Unknown'):\n",
        "        self.set_name(name)\n",
        "        self.size = size\n",
        "        self.breed = breed\n",
        "        self.dob = dob\n",
        "\n",
        "    def bark(self):\n",
        "        print('Woof!')\n",
        "\n",
        "    def get_name(self):\n",
        "        return self.name\n",
        "\n",
        "    def set_name(self, name):\n",
        "\n",
        "        if 2 <= len(name) <= 30 and name.isalpha():\n",
        "            self.name = name.title()\n",
        "        else:\n",
        "            print(\"Invalid name. Please provide a name between 2 and 30 alphabetical characters.\")\n",
        "\n",
        "    def dog_years(self):\n",
        "        return 7 * (2023 - int(self.dob[-4:]))\n",
        "\n",
        "\n",
        "my_dog = Dog(name='Buddy', size='Medium', breed='Labrador', dob='01/01/2010')\n",
        "\n",
        "\n",
        "print(f\"Name: {my_dog.get_name()}\")\n",
        "print(f\"Size: {my_dog.size}\")\n",
        "print(f\"Breed: {my_dog.breed}\")\n",
        "print(f\"Date of Birth: {my_dog.dob}\")\n",
        "\n",
        "\n",
        "my_dog.bark()\n",
        "\n",
        "\n",
        "print(f\"Dog years: {my_dog.dog_years()}\")\n"
      ],
      "metadata": {
        "colab": {
          "base_uri": "https://localhost:8080/"
        },
        "id": "5j9Mcf5HUYQ_",
        "outputId": "3e0cf334-1c7c-4b83-fa7d-98e0d6e39b8d"
      },
      "execution_count": 10,
      "outputs": [
        {
          "output_type": "stream",
          "name": "stdout",
          "text": [
            "Name: Buddy\n",
            "Size: Medium\n",
            "Breed: Labrador\n",
            "Date of Birth: 01/01/2010\n",
            "Woof!\n",
            "Dog years: 91\n"
          ]
        }
      ]
    }
  ]
}