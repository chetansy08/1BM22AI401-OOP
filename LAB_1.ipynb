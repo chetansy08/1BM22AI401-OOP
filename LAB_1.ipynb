{
  "nbformat": 4,
  "nbformat_minor": 0,
  "metadata": {
    "colab": {
      "provenance": [],
      "authorship_tag": "ABX9TyNGUuK9fsLRphJQddqA9RYz",
      "include_colab_link": true
    },
    "kernelspec": {
      "name": "python3",
      "display_name": "Python 3"
    },
    "language_info": {
      "name": "python"
    }
  },
  "cells": [
    {
      "cell_type": "markdown",
      "metadata": {
        "id": "view-in-github",
        "colab_type": "text"
      },
      "source": [
        "<a href=\"https://colab.research.google.com/github/chetansy08/1BM22AI401-OOP/blob/main/LAB_1.ipynb\" target=\"_parent\"><img src=\"https://colab.research.google.com/assets/colab-badge.svg\" alt=\"Open In Colab\"/></a>"
      ]
    },
    {
      "cell_type": "markdown",
      "source": [
        "a) write a Python program to create two empty classes, Student and Marks."
      ],
      "metadata": {
        "id": "5inMmUoZKcKU"
      }
    },
    {
      "cell_type": "code",
      "execution_count": 24,
      "metadata": {
        "colab": {
          "base_uri": "https://localhost:8080/"
        },
        "id": "M0-E5uagAlVl",
        "outputId": "ae483bc1-73ef-4c64-ec67-ce1972909067"
      },
      "outputs": [
        {
          "output_type": "stream",
          "name": "stdout",
          "text": [
            "****----STUDENT DETAILS----****\n",
            "STUDENT NAME = CHETAN\n",
            "STUDENT AGE =  21\n",
            "STUDENT ID_NO = 41409\n",
            "THIS IS INSTANCES OF STUDENT CLASS --True\n",
            "THIS IS SUBCLASS OF STUDENT CLASS --True\n",
            " \n",
            "****----STUDENT DETAILS----****\n",
            "STUDENT NAME = 30\n",
            "STUDENT AGE =  31\n",
            "STUDENT ID_NO = 29\n",
            "THIS IS INSTANCES OF MARKS CLASS --False\n",
            "THIS IS SUBCLASS OF MARKS CLASS --True\n"
          ]
        }
      ],
      "source": [
        "class Student:\n",
        "  def __init__(self,name,age,id_no):\n",
        "    self.name=name\n",
        "    self.age=age\n",
        "    self.id_no=id_no\n",
        "\n",
        "  def show(self):\n",
        "    print(\"****----STUDENT DETAILS----****\")\n",
        "    print(f\"STUDENT NAME = {self.name}\")\n",
        "    print(f\"STUDENT AGE =  {self.age}\")\n",
        "    print(f\"STUDENT ID_NO = {self.id_no}\")\n",
        "\n",
        "class Marks:\n",
        "  def __init__(self,dva,kd,sed):\n",
        "    self.dva=dva\n",
        "    self.kd=kd\n",
        "    self.sed=sed\n",
        "\n",
        "  def show(self):\n",
        "    print(\"****----STUDENT MARKS DETAILS----****\")\n",
        "    print(f\"STUDENT DVA MARKS = {self.dva}\")\n",
        "    print(f\"STUDENT KD MARKS = {self.kd}\")\n",
        "    print(f\"STUDENT SED MARKS = {self.sed}\")\n",
        "\n",
        "\n",
        "#class student creating object n calling\n",
        "c1=Student('CHETAN',21,41409)\n",
        "c1.show()\n",
        "print(f\"THIS IS INSTANCES OF STUDENT CLASS --{isinstance(c1,Student)}\")\n",
        "print(f\"THIS IS SUBCLASS OF STUDENT CLASS --{issubclass(Student,object)}\")\n",
        "print(\" \")\n",
        "\n",
        "\n",
        "#class marks creating object n calling\n",
        "m1=Student(30,31,29)\n",
        "m1.show()\n",
        "print(f\"THIS IS INSTANCES OF MARKS CLASS --{isinstance(m1,Marks)}\")\n",
        "print(f\"THIS IS SUBCLASS OF MARKS CLASS --{issubclass(Marks,object)}\")\n",
        "\n",
        "\n"
      ]
    },
    {
      "cell_type": "markdown",
      "source": [
        "b) Perform addition of two complex numbers using class COMPLEX."
      ],
      "metadata": {
        "id": "MCX_-pT9KZfc"
      }
    },
    {
      "cell_type": "code",
      "source": [
        "class COMPLEX:\n",
        "\n",
        "    real_part = 0\n",
        "    img_part = 0\n",
        "\n",
        "\n",
        "    def __init__(self, real, img):\n",
        "        self.real_part = real\n",
        "        self.img_part = img\n",
        "\n",
        "\n",
        "    def add_complex(self, other):\n",
        "        result = COMPLEX(0, 0)\n",
        "        result.real_part = self.real_part + other.real_part\n",
        "        result.img_part = self.img_part + other.img_part\n",
        "        return result\n",
        "\n",
        "\n",
        "C1 = COMPLEX(3, 4)\n",
        "C2 = COMPLEX(1, 2)\n",
        "C3 = C1.add_complex(C2)\n",
        "\n",
        "\n",
        "print(f\"C1: {C1.real_part} + {C1.img_part}j\")\n",
        "print(f\"C2: {C2.real_part} + {C2.img_part}j\")\n",
        "print(f\"C1 + C2 = C3: {C3.real_part} + {C3.img_part}j\")\n"
      ],
      "metadata": {
        "colab": {
          "base_uri": "https://localhost:8080/"
        },
        "id": "wRNzzmspM4g1",
        "outputId": "166cb50e-826d-475f-c05f-2c65271cb309"
      },
      "execution_count": 28,
      "outputs": [
        {
          "output_type": "stream",
          "name": "stdout",
          "text": [
            "C1: 3 + 4j\n",
            "C2: 1 + 2j\n",
            "C1 + C2 = C3: 4 + 6j\n"
          ]
        }
      ]
    }
  ]
}